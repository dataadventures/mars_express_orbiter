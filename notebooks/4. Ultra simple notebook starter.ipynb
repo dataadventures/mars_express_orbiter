{
 "cells": [
  {
   "cell_type": "markdown",
   "metadata": {},
   "source": [
    "# Imports"
   ]
  },
  {
   "cell_type": "code",
   "execution_count": 1,
   "metadata": {
    "ExecuteTime": {
     "end_time": "2017-05-27T11:25:03.316032Z",
     "start_time": "2017-05-27T11:25:02.985061Z"
    },
    "collapsed": true
   },
   "outputs": [],
   "source": [
    "from __future__ import print_function \n",
    "import numpy as np\n",
    "import matplotlib.pyplot as plt\n",
    "import matplotlib\n",
    "from tqdm import trange, tqdm\n",
    "import pickle\n",
    "\n",
    "%matplotlib inline\n",
    "matplotlib.rcParams['figure.figsize'] = (5, 5)\n",
    "\n",
    "%load_ext autoreload\n",
    "%autoreload 2\n",
    "\n",
    "from hackathon.utils.utils import *\n",
    "from hackathon.utils.draw_utils import *\n",
    "import pandas as pd"
   ]
  },
  {
   "cell_type": "markdown",
   "metadata": {},
   "source": [
    "# Fetching data"
   ]
  },
  {
   "cell_type": "code",
   "execution_count": 2,
   "metadata": {
    "ExecuteTime": {
     "end_time": "2017-05-27T11:25:04.241455Z",
     "start_time": "2017-05-27T11:25:03.523885Z"
    },
    "collapsed": true
   },
   "outputs": [],
   "source": [
    "test_data = parse_data(\"../data/test_data.csv\")\n",
    "train_data = parse_data(\"../data/train_data.csv\")"
   ]
  },
  {
   "cell_type": "markdown",
   "metadata": {},
   "source": [
    "# Splitting train_data into train / validation dataset"
   ]
  },
  {
   "cell_type": "markdown",
   "metadata": {},
   "source": [
    "## You should test how your model performs on data that was not seen during training\n",
    "### It was the \"first rule of proper machine learning\"\n",
    "### Purpose of validation data is choosing best model and parameters"
   ]
  },
  {
   "cell_type": "code",
   "execution_count": 3,
   "metadata": {
    "ExecuteTime": {
     "end_time": "2017-05-27T11:25:06.590360Z",
     "start_time": "2017-05-27T11:25:06.565319Z"
    }
   },
   "outputs": [
    {
     "data": {
      "text/plain": [
       "((37928, 59), (17447, 59))"
      ]
     },
     "execution_count": 3,
     "metadata": {},
     "output_type": "execute_result"
    }
   ],
   "source": [
    "train_dates = train_data.index < '2013-01-01 00:00:00'\n",
    "\n",
    "train_df = train_data[train_dates]\n",
    "valid_df = train_data[~train_dates]\n",
    "\n",
    "train_df.shape, valid_df.shape"
   ]
  },
  {
   "cell_type": "markdown",
   "metadata": {},
   "source": [
    "# Extract X and y for train/valid/test set"
   ]
  },
  {
   "cell_type": "code",
   "execution_count": 4,
   "metadata": {
    "ExecuteTime": {
     "end_time": "2017-05-27T11:25:07.864267Z",
     "start_time": "2017-05-27T11:25:07.832502Z"
    }
   },
   "outputs": [
    {
     "name": "stdout",
     "output_type": "stream",
     "text": [
      "['sunmars_km', 'earthmars_km', 'sunmarsearthangle_deg', 'solarconstantmars', 'eclipseduration_min', 'occultationduration_min', 'sa', 'sx', 'sy', 'sz', 'dmop_count_24h_AAAA', 'dmop_count_24h_AACF', 'dmop_count_24h_ADMC', 'dmop_count_24h_AHHH', 'dmop_count_24h_AMMM', 'dmop_count_24h_AOOO', 'dmop_count_24h_APSF', 'dmop_count_24h_APWF', 'dmop_count_24h_ASEQ', 'dmop_count_24h_ASSS', 'dmop_count_24h_ASXX', 'dmop_count_24h_ATMB', 'dmop_count_24h_ATTT', 'dmop_count_24h_AVVV', 'dmop_count_24h_AXXX', 'dmop_count_24h_sum']\n",
      "\n",
      "['NPWD2372', 'NPWD2401', 'NPWD2402', 'NPWD2451', 'NPWD2471', 'NPWD2472', 'NPWD2481', 'NPWD2482', 'NPWD2491', 'NPWD2501', 'NPWD2531', 'NPWD2532', 'NPWD2551', 'NPWD2552', 'NPWD2561', 'NPWD2562', 'NPWD2691', 'NPWD2692', 'NPWD2721', 'NPWD2722', 'NPWD2742', 'NPWD2771', 'NPWD2791', 'NPWD2792', 'NPWD2801', 'NPWD2802', 'NPWD2821', 'NPWD2851', 'NPWD2852', 'NPWD2871', 'NPWD2872', 'NPWD2881', 'NPWD2882']\n"
     ]
    }
   ],
   "source": [
    "x_columns = filter(lambda x: \"NPWD\" not in x and 'ut_ms' not in x, train_df.columns)\n",
    "print(x_columns)\n",
    "print()\n",
    "y_columns = filter(lambda x: \"NPWD\"  in x, train_df.columns)\n",
    "print(y_columns)\n",
    "\n",
    "# create train/valid datasets\n",
    "X_train = train_df[x_columns]\n",
    "y_train = train_df[y_columns]\n",
    "\n",
    "X_valid = valid_df[x_columns]\n",
    "y_valid = valid_df[y_columns]\n",
    "\n",
    "X_test = test_data[x_columns]\n",
    "y_test = test_data[y_columns]"
   ]
  },
  {
   "cell_type": "markdown",
   "metadata": {},
   "source": [
    "# Fit a simple linear model (linear regression) on train data"
   ]
  },
  {
   "cell_type": "code",
   "execution_count": 6,
   "metadata": {
    "ExecuteTime": {
     "end_time": "2017-05-27T11:25:44.321233Z",
     "start_time": "2017-05-27T11:25:43.466862Z"
    }
   },
   "outputs": [
    {
     "data": {
      "text/plain": [
       "LinearRegression(copy_X=True, fit_intercept=True, n_jobs=1, normalize=False)"
      ]
     },
     "execution_count": 6,
     "metadata": {},
     "output_type": "execute_result"
    }
   ],
   "source": [
    "from sklearn.linear_model import LinearRegression\n",
    "linear_model = LinearRegression()\n",
    "linear_model.fit(X_train, y_train)"
   ]
  },
  {
   "cell_type": "markdown",
   "metadata": {},
   "source": [
    "# Check your score on validation data"
   ]
  },
  {
   "cell_type": "markdown",
   "metadata": {},
   "source": [
    "## We are checking how the model performs on validation data"
   ]
  },
  {
   "cell_type": "code",
   "execution_count": 8,
   "metadata": {
    "ExecuteTime": {
     "end_time": "2017-05-27T11:25:58.571338Z",
     "start_time": "2017-05-27T11:25:58.532692Z"
    }
   },
   "outputs": [
    {
     "data": {
      "text/plain": [
       "0.11585583530285432"
      ]
     },
     "execution_count": 8,
     "metadata": {},
     "output_type": "execute_result"
    }
   ],
   "source": [
    "from hackathon.utils.utils import RMSE\n",
    "RMSE(linear_model.predict(X_valid), y_valid)"
   ]
  },
  {
   "cell_type": "markdown",
   "metadata": {},
   "source": [
    "# Fit a maybe-better-model (a regularized linear model - more resistant to overfitting)"
   ]
  },
  {
   "cell_type": "code",
   "execution_count": 9,
   "metadata": {
    "ExecuteTime": {
     "end_time": "2017-05-27T11:25:59.706724Z",
     "start_time": "2017-05-27T11:25:59.691994Z"
    },
    "collapsed": true
   },
   "outputs": [],
   "source": [
    "from sklearn.linear_model import ElasticNet"
   ]
  },
  {
   "cell_type": "code",
   "execution_count": 10,
   "metadata": {
    "ExecuteTime": {
     "end_time": "2017-05-27T11:26:01.149390Z",
     "start_time": "2017-05-27T11:26:00.683091Z"
    }
   },
   "outputs": [
    {
     "data": {
      "text/plain": [
       "ElasticNet(alpha=1.0, copy_X=True, fit_intercept=True, l1_ratio=0.5,\n",
       "      max_iter=1000, normalize=False, positive=False, precompute=False,\n",
       "      random_state=None, selection='cyclic', tol=0.0001, warm_start=False)"
      ]
     },
     "execution_count": 10,
     "metadata": {},
     "output_type": "execute_result"
    }
   ],
   "source": [
    "maybe_better_linear_model = ElasticNet()\n",
    "maybe_better_linear_model.fit(X_train, y_train)"
   ]
  },
  {
   "cell_type": "markdown",
   "metadata": {},
   "source": [
    "# Evaluate it"
   ]
  },
  {
   "cell_type": "code",
   "execution_count": 11,
   "metadata": {
    "ExecuteTime": {
     "end_time": "2017-05-27T11:26:05.656793Z",
     "start_time": "2017-05-27T11:26:05.636015Z"
    }
   },
   "outputs": [
    {
     "data": {
      "text/plain": [
       "0.11685221210036432"
      ]
     },
     "execution_count": 11,
     "metadata": {},
     "output_type": "execute_result"
    }
   ],
   "source": [
    "RMSE(maybe_better_linear_model.predict(X_valid), y_valid)"
   ]
  },
  {
   "cell_type": "markdown",
   "metadata": {},
   "source": [
    "### It was worse :<< so sad"
   ]
  },
  {
   "cell_type": "markdown",
   "metadata": {},
   "source": [
    "# Train the better performing model on (train + valid) data"
   ]
  },
  {
   "cell_type": "code",
   "execution_count": 12,
   "metadata": {
    "ExecuteTime": {
     "end_time": "2017-05-27T11:26:19.801323Z",
     "start_time": "2017-05-27T11:26:19.742405Z"
    }
   },
   "outputs": [
    {
     "data": {
      "text/plain": [
       "LinearRegression(copy_X=True, fit_intercept=True, n_jobs=1, normalize=False)"
      ]
     },
     "execution_count": 12,
     "metadata": {},
     "output_type": "execute_result"
    }
   ],
   "source": [
    "best_model = LinearRegression()\n",
    "X_train_valid = pd.concat([X_train, X_valid])\n",
    "y_train_valid = pd.concat([y_train, y_valid])\n",
    "best_model.fit(X_train_valid, y_train_valid)"
   ]
  },
  {
   "cell_type": "markdown",
   "metadata": {},
   "source": [
    "# Create a submission file which you will upload later"
   ]
  },
  {
   "cell_type": "code",
   "execution_count": 13,
   "metadata": {
    "ExecuteTime": {
     "end_time": "2017-05-27T11:26:21.164003Z",
     "start_time": "2017-05-27T11:26:21.050110Z"
    },
    "collapsed": true
   },
   "outputs": [],
   "source": [
    "def create_submission_df(model, X_test_features, y_columns): \n",
    "    X_test = X_test_features\n",
    "    y_test_pred = model.predict(X_test_features)\n",
    "    submision_df = pd.DataFrame(data=y_test_pred, index=X_test.index, columns=y_columns)\n",
    "    submision_df.index = to_utms(submision_df.index)\n",
    "    return submision_df\n",
    "\n",
    "\n",
    "sub_df = create_submission_df(best_model, X_test[x_columns], y_columns)\n",
    "sub_df.to_csv(\"../submissions/my_first_model_prediction.csv\")"
   ]
  },
  {
   "cell_type": "code",
   "execution_count": null,
   "metadata": {
    "collapsed": true
   },
   "outputs": [],
   "source": []
  }
 ],
 "metadata": {
  "kernelspec": {
   "display_name": "hackathon",
   "language": "python",
   "name": "hackathon"
  },
  "language_info": {
   "codemirror_mode": {
    "name": "ipython",
    "version": 2
   },
   "file_extension": ".py",
   "mimetype": "text/x-python",
   "name": "python",
   "nbconvert_exporter": "python",
   "pygments_lexer": "ipython2",
   "version": "2.7.13"
  },
  "toc": {
   "colors": {
    "hover_highlight": "#DAA520",
    "navigate_num": "#000000",
    "navigate_text": "#333333",
    "running_highlight": "#FF0000",
    "selected_highlight": "#FFD700",
    "sidebar_border": "#EEEEEE",
    "wrapper_background": "#FFFFFF"
   },
   "moveMenuLeft": true,
   "nav_menu": {
    "height": "298px",
    "width": "252px"
   },
   "navigate_menu": true,
   "number_sections": true,
   "sideBar": true,
   "threshold": 4,
   "toc_cell": false,
   "toc_section_display": "block",
   "toc_window_display": false,
   "widenNotebook": false
  },
  "varInspector": {
   "cols": {
    "lenName": 16,
    "lenType": 16,
    "lenVar": 40
   },
   "kernels_config": {
    "python": {
     "delete_cmd_postfix": "",
     "delete_cmd_prefix": "del ",
     "library": "var_list.py",
     "varRefreshCmd": "print(var_dic_list())"
    },
    "r": {
     "delete_cmd_postfix": ") ",
     "delete_cmd_prefix": "rm(",
     "library": "var_list.r",
     "varRefreshCmd": "cat(var_dic_list()) "
    }
   },
   "types_to_exclude": [
    "module",
    "function",
    "builtin_function_or_method",
    "instance",
    "_Feature"
   ],
   "window_display": false
  }
 },
 "nbformat": 4,
 "nbformat_minor": 2
}
